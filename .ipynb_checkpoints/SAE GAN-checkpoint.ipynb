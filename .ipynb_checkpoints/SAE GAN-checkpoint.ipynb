{
 "cells": [
  {
   "cell_type": "code",
   "execution_count": 1,
   "id": "ade1b184-9e42-4184-90c6-10a81380b5a3",
   "metadata": {},
   "outputs": [],
   "source": [
    "import random\n",
    "\n",
    "import numpy as np\n",
    "import matplotlib.pyplot as plt\n",
    "from tqdm import tqdm\n",
    "\n",
    "import torch\n",
    "import torch.nn as nn\n",
    "import torch.optim as optim\n",
    "import torch.nn.functional as F\n",
    "\n",
    "import torchvision\n",
    "import torchvision.transforms as T\n",
    "from torchvision.datasets import MNIST, CIFAR10\n",
    "\n",
    "from IPython.display import clear_output\n",
    "\n",
    "DEVICE=torch.device(\"cuda:0\" if torch.cuda.is_available() else \"cpu\")\n",
    "SEED=42\n",
    "random.seed(SEED)\n",
    "np.random.seed(SEED)\n",
    "torch.manual_seed(SEED);"
   ]
  },
  {
   "cell_type": "code",
   "execution_count": 2,
   "id": "a2a1c3ba-2ef3-4d62-8624-3759fa978207",
   "metadata": {
    "scrolled": true
   },
   "outputs": [
    {
     "name": "stdout",
     "output_type": "stream",
     "text": [
      "Loading BigGAN model biggan-deep-256 from cache at /home/natifick/.pytorch_pretrained_biggan/e7d036ee69a83e83503c46902552573b27d856eaf6b8b84252a63a715dce7501.aec5caf3e5c5252b8857d6bb8adefa8d1d6092a8ba6c9aaed1e6678f8a46be43\n"
     ]
    }
   ],
   "source": [
    "import torch\n",
    "from pytorch_pretrained_gans import make_gan\n",
    "\n",
    "# Sample a class-conditional image from BigGAN with default resolution 256\n",
    "G = make_gan(gan_type='biggan')  # -> nn.Module\n",
    "y = G.sample_class(batch_size=1)  # -> torch.Size([1, 1000])\n",
    "z = G.sample_latent(batch_size=1)  # -> torch.Size([1, 128])\n",
    "x = G(z=z, y=y)  # -> torch.Size([1, 3, 256, 256])"
   ]
  },
  {
   "cell_type": "code",
   "execution_count": 3,
   "id": "df10d73f-9692-451d-bc27-bb64fbf72395",
   "metadata": {},
   "outputs": [],
   "source": [
    "G = G.to(DEVICE)"
   ]
  },
  {
   "cell_type": "code",
   "execution_count": 4,
   "id": "c0d94767-98ea-4703-a93e-64ae81afb174",
   "metadata": {},
   "outputs": [],
   "source": [
    "class SparseAutoEncoder(nn.Module):\n",
    "    def __init__(self, in_dim, hidden_size):\n",
    "        super().__init__()\n",
    "        self.E = nn.Linear(in_dim, hidden_size, bias=False)\n",
    "        self.D = nn.Linear(hidden_size, in_dim, bias=False)\n",
    "        self.act = nn.ReLU()\n",
    "\n",
    "        loss_fn = nn.MSELoss()\n",
    "        optimizer = torch.optim.Adam(self.parameters())\n",
    "        \n",
    "    def forward(self, x):\n",
    "        hidden = self.act(self.E(x))\n",
    "        return self.D(hidden)\n",
    "\n",
    "    def get_loss(self, x_pred, x_true):\n",
    "        loss = self.loss_fn(x_pred, x_true)\n",
    "        loss.backward()\n",
    "        self.optimizer.step()"
   ]
  },
  {
   "cell_type": "code",
   "execution_count": 10,
   "id": "c331c4c0-f65d-4d15-8e5f-3f240fc7a41f",
   "metadata": {},
   "outputs": [],
   "source": [
    "def train(SAE, G, loss_fn, optimizer, batch_size=8, n_iters=1000):\n",
    "    losses = []\n",
    "    ranger = tqdm(range(n_iters))\n",
    "    for ep in ranger:\n",
    "        y = G.sample_class(batch_size=batch_size, device=DEVICE)  # -> torch.Size([batch_size, 1000])\n",
    "        z = G.sample_latent(batch_size=batch_size, device=DEVICE)  # -> torch.Size([batch_size, 128])\n",
    "        with torch.no_grad():\n",
    "            x_true = torch.flatten(G(z=z, y=y), start_dim=1) # -> torch.Size([batch_size, 3, 256, 256])\n",
    "        z_pred = SAE(z)\n",
    "        x_pred = torch.flatten(G(z=z_pred), start_dim=1)\n",
    "        loss = loss_fn(x_pred, x_true)\n",
    "        loss.backward()\n",
    "        # with torch.no_grad:\n",
    "        # print(torch.norm(SAE.E.weight.grad)\n",
    "        optimizer.step()\n",
    "        losses.append(loss.item())\n",
    "        ranger.set_description_str(f\"loss={losses[-1]}\")\n",
    "    return losses"
   ]
  },
  {
   "cell_type": "markdown",
   "id": "56eaf594-019e-45cd-9876-0a2806a5f3c8",
   "metadata": {},
   "source": [
    "To measure the effect of the idea we run 2 different autoencoders trained on the same data:\n",
    "1) Trained on the MSE of output images\n",
    "2) Trained to simply replicate the input"
   ]
  },
  {
   "cell_type": "code",
   "execution_count": 11,
   "id": "44cb411b-b40e-4857-a0ed-8a3f107a84d8",
   "metadata": {},
   "outputs": [],
   "source": [
    "SAE1 = SparseAutoEncoder(128, 1280).to(DEVICE) # x10 extention\n",
    "SAE2 = SparseAutoEncoder(128, 1280).to(DEVICE) # x10 extention\n",
    "loss_fn = nn.MSELoss()\n",
    "optimizer = torch.optim.Adam(SAE.parameters())"
   ]
  },
  {
   "cell_type": "code",
   "execution_count": 12,
   "id": "275aee47-4c16-4ffa-8271-8331433f6fd2",
   "metadata": {
    "scrolled": true
   },
   "outputs": [
    {
     "name": "stderr",
     "output_type": "stream",
     "text": [
      "loss=0.5836654901504517:  47%|████▋     | 466/1000 [03:55<04:30,  1.98it/s] \n"
     ]
    },
    {
     "ename": "KeyboardInterrupt",
     "evalue": "",
     "output_type": "error",
     "traceback": [
      "\u001b[0;31m---------------------------------------------------------------------------\u001b[0m",
      "\u001b[0;31mKeyboardInterrupt\u001b[0m                         Traceback (most recent call last)",
      "Cell \u001b[0;32mIn[12], line 1\u001b[0m\n\u001b[0;32m----> 1\u001b[0m losses \u001b[38;5;241m=\u001b[39m train(SAE, G, loss_fn, optimizer, batch_size\u001b[38;5;241m=\u001b[39m\u001b[38;5;241m32\u001b[39m)\n",
      "Cell \u001b[0;32mIn[10], line 12\u001b[0m, in \u001b[0;36mtrain\u001b[0;34m(SAE, G, loss_fn, optimizer, batch_size, n_iters)\u001b[0m\n\u001b[1;32m     10\u001b[0m x_pred \u001b[38;5;241m=\u001b[39m torch\u001b[38;5;241m.\u001b[39mflatten(G(z), start_dim\u001b[38;5;241m=\u001b[39m\u001b[38;5;241m1\u001b[39m)\n\u001b[1;32m     11\u001b[0m loss \u001b[38;5;241m=\u001b[39m loss_fn(x_pred, x_true)\n\u001b[0;32m---> 12\u001b[0m loss\u001b[38;5;241m.\u001b[39mbackward()\n\u001b[1;32m     13\u001b[0m \u001b[38;5;66;03m# with torch.no_grad:\u001b[39;00m\n\u001b[1;32m     14\u001b[0m \u001b[38;5;66;03m# print(torch.norm(SAE.E.weight.grad)\u001b[39;00m\n\u001b[1;32m     15\u001b[0m optimizer\u001b[38;5;241m.\u001b[39mstep()\n",
      "File \u001b[0;32m~/miniconda3/lib/python3.12/site-packages/torch/_tensor.py:525\u001b[0m, in \u001b[0;36mTensor.backward\u001b[0;34m(self, gradient, retain_graph, create_graph, inputs)\u001b[0m\n\u001b[1;32m    515\u001b[0m \u001b[38;5;28;01mif\u001b[39;00m has_torch_function_unary(\u001b[38;5;28mself\u001b[39m):\n\u001b[1;32m    516\u001b[0m     \u001b[38;5;28;01mreturn\u001b[39;00m handle_torch_function(\n\u001b[1;32m    517\u001b[0m         Tensor\u001b[38;5;241m.\u001b[39mbackward,\n\u001b[1;32m    518\u001b[0m         (\u001b[38;5;28mself\u001b[39m,),\n\u001b[0;32m   (...)\u001b[0m\n\u001b[1;32m    523\u001b[0m         inputs\u001b[38;5;241m=\u001b[39minputs,\n\u001b[1;32m    524\u001b[0m     )\n\u001b[0;32m--> 525\u001b[0m torch\u001b[38;5;241m.\u001b[39mautograd\u001b[38;5;241m.\u001b[39mbackward(\n\u001b[1;32m    526\u001b[0m     \u001b[38;5;28mself\u001b[39m, gradient, retain_graph, create_graph, inputs\u001b[38;5;241m=\u001b[39minputs\n\u001b[1;32m    527\u001b[0m )\n",
      "File \u001b[0;32m~/miniconda3/lib/python3.12/site-packages/torch/autograd/__init__.py:267\u001b[0m, in \u001b[0;36mbackward\u001b[0;34m(tensors, grad_tensors, retain_graph, create_graph, grad_variables, inputs)\u001b[0m\n\u001b[1;32m    262\u001b[0m     retain_graph \u001b[38;5;241m=\u001b[39m create_graph\n\u001b[1;32m    264\u001b[0m \u001b[38;5;66;03m# The reason we repeat the same comment below is that\u001b[39;00m\n\u001b[1;32m    265\u001b[0m \u001b[38;5;66;03m# some Python versions print out the first line of a multi-line function\u001b[39;00m\n\u001b[1;32m    266\u001b[0m \u001b[38;5;66;03m# calls in the traceback and some print out the last line\u001b[39;00m\n\u001b[0;32m--> 267\u001b[0m _engine_run_backward(\n\u001b[1;32m    268\u001b[0m     tensors,\n\u001b[1;32m    269\u001b[0m     grad_tensors_,\n\u001b[1;32m    270\u001b[0m     retain_graph,\n\u001b[1;32m    271\u001b[0m     create_graph,\n\u001b[1;32m    272\u001b[0m     inputs,\n\u001b[1;32m    273\u001b[0m     allow_unreachable\u001b[38;5;241m=\u001b[39m\u001b[38;5;28;01mTrue\u001b[39;00m,\n\u001b[1;32m    274\u001b[0m     accumulate_grad\u001b[38;5;241m=\u001b[39m\u001b[38;5;28;01mTrue\u001b[39;00m,\n\u001b[1;32m    275\u001b[0m )\n",
      "File \u001b[0;32m~/miniconda3/lib/python3.12/site-packages/torch/autograd/graph.py:744\u001b[0m, in \u001b[0;36m_engine_run_backward\u001b[0;34m(t_outputs, *args, **kwargs)\u001b[0m\n\u001b[1;32m    742\u001b[0m     unregister_hooks \u001b[38;5;241m=\u001b[39m _register_logging_hooks_on_whole_graph(t_outputs)\n\u001b[1;32m    743\u001b[0m \u001b[38;5;28;01mtry\u001b[39;00m:\n\u001b[0;32m--> 744\u001b[0m     \u001b[38;5;28;01mreturn\u001b[39;00m Variable\u001b[38;5;241m.\u001b[39m_execution_engine\u001b[38;5;241m.\u001b[39mrun_backward(  \u001b[38;5;66;03m# Calls into the C++ engine to run the backward pass\u001b[39;00m\n\u001b[1;32m    745\u001b[0m         t_outputs, \u001b[38;5;241m*\u001b[39margs, \u001b[38;5;241m*\u001b[39m\u001b[38;5;241m*\u001b[39mkwargs\n\u001b[1;32m    746\u001b[0m     )  \u001b[38;5;66;03m# Calls into the C++ engine to run the backward pass\u001b[39;00m\n\u001b[1;32m    747\u001b[0m \u001b[38;5;28;01mfinally\u001b[39;00m:\n\u001b[1;32m    748\u001b[0m     \u001b[38;5;28;01mif\u001b[39;00m attach_logging_hooks:\n",
      "\u001b[0;31mKeyboardInterrupt\u001b[0m: "
     ]
    }
   ],
   "source": [
    "losses = train(SAE, G, loss_fn, optimizer, batch_size=32, n_iters=200)"
   ]
  },
  {
   "cell_type": "code",
   "execution_count": null,
   "id": "2af2cc68-f64b-4bb1-b862-f8752a1757f3",
   "metadata": {},
   "outputs": [],
   "source": [
    "import matplotlib.pyplot as plt\n",
    "\n",
    "plt.plot(range(losses), losses)\n",
    "plt.show()"
   ]
  },
  {
   "cell_type": "code",
   "execution_count": null,
   "id": "01577f54-c02f-4fef-8548-ff02aa896713",
   "metadata": {},
   "outputs": [],
   "source": []
  }
 ],
 "metadata": {
  "kernelspec": {
   "display_name": "Python 3 (ipykernel)",
   "language": "python",
   "name": "python3"
  },
  "language_info": {
   "codemirror_mode": {
    "name": "ipython",
    "version": 3
   },
   "file_extension": ".py",
   "mimetype": "text/x-python",
   "name": "python",
   "nbconvert_exporter": "python",
   "pygments_lexer": "ipython3",
   "version": "3.12.2"
  }
 },
 "nbformat": 4,
 "nbformat_minor": 5
}
